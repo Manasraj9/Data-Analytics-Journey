{
 "cells": [
  {
   "cell_type": "code",
   "execution_count": 4,
   "id": "b191dad6-3cd3-48eb-b9d7-f73718f0ac3e",
   "metadata": {},
   "outputs": [
    {
     "name": "stdout",
     "output_type": "stream",
     "text": [
      "     EEID        Full Name                 Job Title  Department  \\\n",
      "0  E02387      Emily Davis                Sr. Manger          IT   \n",
      "1  E04105    Theodore Dinh       Technical Architect          IT   \n",
      "2  E02572     Luna Sanders                  Director     Finance   \n",
      "3  E02832  Penelope Jordan  Computer Systems Manager          IT   \n",
      "4  E01639        Austin Vo               Sr. Analyst     Finance   \n",
      "5  E00644     Joshua Gupta    Account Representative       Sales   \n",
      "6  E01550      Ruby Barnes                   Manager          IT   \n",
      "7  E04332      Luke Martin                   Analyst     Finance   \n",
      "8  E04533    Easton Bailey                   Manager  Accounting   \n",
      "9  E03838  Madeline Walker               Sr. Analyst     Finance   \n",
      "\n",
      "            Business Unit  Gender  Ethnicity  Age  Hire Date  Annual Salary  \\\n",
      "0  Research & Development  Female      Black   55 2016-04-08         141604   \n",
      "1           Manufacturing    Male      Asian   59 1997-11-29          99975   \n",
      "2     Speciality Products  Female  Caucasian   50 2006-10-26         163099   \n",
      "3           Manufacturing  Female  Caucasian   26 2019-09-27          84913   \n",
      "4           Manufacturing    Male      Asian   55 1995-11-20          95409   \n",
      "5               Corporate    Male      Asian   57 2017-01-24          50994   \n",
      "6               Corporate  Female  Caucasian   27 2020-07-01         119746   \n",
      "7           Manufacturing    Male      Black   25 2020-05-16          41336   \n",
      "8           Manufacturing    Male  Caucasian   29 2019-01-25         113527   \n",
      "9     Speciality Products  Female  Caucasian   34 2018-06-13          77203   \n",
      "\n",
      "   Bonus %        Country       City  Exit Date Gets Bonus  \n",
      "0     0.15  United States    Seattle 2021-10-16      bonus  \n",
      "1     0.00          China  Chongqing        NaT   no bonus  \n",
      "2     0.20  United States    Chicago        NaT      bonus  \n",
      "3     0.07  United States    Chicago        NaT      bonus  \n",
      "4     0.00  United States    Phoenix        NaT   no bonus  \n",
      "5     0.00          China  Chongqing        NaT   no bonus  \n",
      "6     0.10  United States    Phoenix        NaT      bonus  \n",
      "7     0.00  United States      Miami 2021-05-20   no bonus  \n",
      "8     0.06  United States     Austin        NaT      bonus  \n",
      "9     0.00  United States    Chicago        NaT   no bonus  \n"
     ]
    }
   ],
   "source": [
    "import pandas as pd\n",
    "\n",
    "df = pd.read_excel(\"ESD.xlsx\")\n",
    "#print(data)\n",
    "df.loc[(df[\"Bonus %\"]==0),\"Gets Bonus\"]=\"no bonus\"\n",
    "df.loc[(df[\"Bonus %\"]>0),\"Gets Bonus\"]=\"bonus\"\n",
    "print(df.head(10))"
   ]
  },
  {
   "cell_type": "code",
   "execution_count": 5,
   "id": "4427b69e-dadd-4c92-b760-46d7829c48c9",
   "metadata": {},
   "outputs": [],
   "source": [
    "df = pd.read_excel(\"ESD.xlsx\")"
   ]
  },
  {
   "cell_type": "code",
   "execution_count": 6,
   "id": "4a8636b3-4526-4a54-b0b6-5a5cb92fca65",
   "metadata": {},
   "outputs": [
    {
     "name": "stdout",
     "output_type": "stream",
     "text": [
      "     EEID First Name Last Name  Age Gender\n",
      "0  EMP001      Aarav    Sharma   28      M\n",
      "1  EMP002      Sneha     Patel   25      F\n",
      "2  EMP003      Karan     Verma   32      M\n",
      "3  EMP004       Diya     Singh   24      F\n",
      "4  EMP005      Rohit     Mehta   29      M\n",
      "5  EMP006      Meera      Iyer   27      F\n",
      "6  EMP007     Ishaan     Reddy   30      M\n",
      "7  EMP008     Ananya    Kapoor   23      F\n",
      "8  EMP009     Vikram     Joshi   35      M\n",
      "9  EMP010      Tanya     Gupta   26      F\n"
     ]
    }
   ],
   "source": [
    "data = {\n",
    "    \"EEID\": [\"EMP001\", \"EMP002\", \"EMP003\", \"EMP004\", \"EMP005\", \n",
    "             \"EMP006\", \"EMP007\", \"EMP008\", \"EMP009\", \"EMP010\"],\n",
    "    \"First Name\": [\"Aarav\", \"Sneha\", \"Karan\", \"Diya\", \"Rohit\", \n",
    "                   \"Meera\", \"Ishaan\", \"Ananya\", \"Vikram\", \"Tanya\"],\n",
    "    \"Last Name\": [\"Sharma\", \"Patel\", \"Verma\", \"Singh\", \"Mehta\", \n",
    "                  \"Iyer\", \"Reddy\", \"Kapoor\", \"Joshi\", \"Gupta\"],\n",
    "    \"Age\": [28, 25, 32, 24, 29, 27, 30, 23, 35, 26],\n",
    "    \"Gender\": [\"M\", \"F\", \"M\", \"F\", \"M\", \"F\", \"M\", \"F\", \"M\", \"F\"]\n",
    "}\n",
    "\n",
    "df = pd.DataFrame(data)\n",
    "print(df)\n",
    "df.to_csv(\"employees.csv\", index=False)\n"
   ]
  },
  {
   "cell_type": "code",
   "execution_count": 12,
   "id": "e78151c7-5d69-4e43-a1bb-57571675ac83",
   "metadata": {},
   "outputs": [
    {
     "name": "stdout",
     "output_type": "stream",
     "text": [
      "     EEID First Name Last Name  Age Gender\n",
      "0  EMP001      Aarav    Sharma   28      M\n",
      "1  EMP002      Sneha     Patel   25      F\n",
      "2  EMP003      Karan     Verma   32      M\n",
      "3  EMP004       Diya     Singh   24      F\n",
      "4  EMP005      Rohit     Mehta   29      M\n",
      "5  EMP006      Meera      Iyer   27      F\n",
      "6  EMP007     Ishaan     Reddy   30      M\n",
      "7  EMP008     Ananya    Kapoor   23      F\n",
      "8  EMP009     Vikram     Joshi   35      M\n",
      "9  EMP010      Tanya     Gupta   26      F\n",
      "     EEID First Name Last Name  Age Gender      Full Name\n",
      "0  EMP001      Aarav    Sharma   28      M   Aarav Sharma\n",
      "1  EMP002      Sneha     Patel   25      F    Sneha Patel\n",
      "2  EMP003      Karan     Verma   32      M    Karan Verma\n",
      "3  EMP004       Diya     Singh   24      F     Diya Singh\n",
      "4  EMP005      Rohit     Mehta   29      M    Rohit Mehta\n",
      "5  EMP006      Meera      Iyer   27      F     Meera Iyer\n",
      "6  EMP007     Ishaan     Reddy   30      M   Ishaan Reddy\n",
      "7  EMP008     Ananya    Kapoor   23      F  Ananya Kapoor\n",
      "8  EMP009     Vikram     Joshi   35      M   Vikram Joshi\n",
      "9  EMP010      Tanya     Gupta   26      F    Tanya Gupta\n"
     ]
    }
   ],
   "source": [
    "data = pd.read_csv(\"employees.csv\")\n",
    "print(data)\n",
    "\n",
    "data[\"Full Name\"]=data[\"First Name\"] + \" \" + data[\"Last Name\"]\n",
    "print(data)"
   ]
  },
  {
   "cell_type": "code",
   "execution_count": null,
   "id": "cd64ae55-6bf0-4570-9de5-c74672e755f9",
   "metadata": {},
   "outputs": [],
   "source": []
  }
 ],
 "metadata": {
  "kernelspec": {
   "display_name": "Python 3 (ipykernel)",
   "language": "python",
   "name": "python3"
  },
  "language_info": {
   "codemirror_mode": {
    "name": "ipython",
    "version": 3
   },
   "file_extension": ".py",
   "mimetype": "text/x-python",
   "name": "python",
   "nbconvert_exporter": "python",
   "pygments_lexer": "ipython3",
   "version": "3.13.1"
  }
 },
 "nbformat": 4,
 "nbformat_minor": 5
}
