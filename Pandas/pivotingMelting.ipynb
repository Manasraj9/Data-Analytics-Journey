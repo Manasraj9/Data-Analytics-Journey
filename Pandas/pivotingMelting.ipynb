{
 "cells": [
  {
   "cell_type": "code",
   "execution_count": 6,
   "id": "eab4239c-6266-4c6e-8cc7-d0f694ed2777",
   "metadata": {},
   "outputs": [
    {
     "name": "stdout",
     "output_type": "stream",
     "text": [
      "  keys  Names Houses\n",
      "0   K1   John    red\n",
      "1   K2    Ben   blue\n",
      "2   K1  David  green\n",
      "3   K2  Peter    red\n",
      "Names   Ben  David John Peter\n",
      "keys                         \n",
      "K1      NaN  green  red   NaN\n",
      "K2     blue    NaN  NaN   red\n"
     ]
    }
   ],
   "source": [
    "import pandas as pd\n",
    "\n",
    "dict={\"keys\":[\"K1\",\"K2\",\"K1\",\"K2\"],\n",
    "     \"Names\":[\"John\",\"Ben\",\"David\",\"Peter\"],\n",
    "     \"Houses\":[\"red\",\"blue\",\"green\",\"red\"]}\n",
    "\n",
    "df = pd.DataFrame(dict)\n",
    "print(df)\n",
    "# print(df.pivot(\"keys\",\"Names\",\"Houses\"))\n",
    "print(df.pivot(index=\"keys\", columns=\"Names\", values=\"Houses\"))"
   ]
  },
  {
   "cell_type": "code",
   "execution_count": 7,
   "id": "ad6111aa-3386-41bf-a714-d0ca2478060a",
   "metadata": {},
   "outputs": [
    {
     "name": "stdout",
     "output_type": "stream",
     "text": [
      "\n",
      "Melted DataFrame:\n",
      "   keys Attribute  Value\n",
      "0   K1     Names   John\n",
      "1   K2     Names    Ben\n",
      "2   K1     Names  David\n",
      "3   K2     Names  Peter\n",
      "4   K1    Houses    red\n",
      "5   K2    Houses   blue\n",
      "6   K1    Houses  green\n",
      "7   K2    Houses    red\n"
     ]
    }
   ],
   "source": [
    "melted_df = df.melt(id_vars=[\"keys\"], var_name=\"Attribute\", value_name=\"Value\")\n",
    "print(melted_df)"
   ]
  },
  {
   "cell_type": "code",
   "execution_count": null,
   "id": "365bdbfd-d874-4fb5-b633-121b6897b302",
   "metadata": {},
   "outputs": [],
   "source": []
  }
 ],
 "metadata": {
  "kernelspec": {
   "display_name": "Python 3 (ipykernel)",
   "language": "python",
   "name": "python3"
  },
  "language_info": {
   "codemirror_mode": {
    "name": "ipython",
    "version": 3
   },
   "file_extension": ".py",
   "mimetype": "text/x-python",
   "name": "python",
   "nbconvert_exporter": "python",
   "pygments_lexer": "ipython3",
   "version": "3.13.1"
  }
 },
 "nbformat": 4,
 "nbformat_minor": 5
}
