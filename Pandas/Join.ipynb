{
 "cells": [
  {
   "cell_type": "code",
   "execution_count": 7,
   "id": "82471f5d-7eb3-4995-93f6-8e9efa2f3832",
   "metadata": {},
   "outputs": [
    {
     "name": "stdout",
     "output_type": "stream",
     "text": [
      "  Emp Id    Name  age\n",
      "0    E01     Ram   34\n",
      "1    E02   Shyam   56\n",
      "2    E03   rahul   19\n",
      "3    E04  vishal   44\n",
      "4    E05    Ravi   32\n",
      "5    E06     Raj   49\n",
      "\n",
      "  Emp Id  Salary\n",
      "0    E01   45000\n",
      "1    E07   56000\n",
      "2    E03   30000\n",
      "3    E04   50000\n",
      "4    E08   34000\n",
      "5    E06   62000\n"
     ]
    }
   ],
   "source": [
    "import pandas as pd\n",
    "\n",
    "data1={\"Emp Id\":[\"E01\",\"E02\",\"E03\",\"E04\",\"E05\",\"E06\"],\n",
    "      \"Name\":[\"Ram\",\"Shyam\",\"rahul\",\"vishal\",\"Ravi\",\"Raj\"],\n",
    "      \"age\":[34,56,19,44,32,49]}\n",
    "\n",
    "data2 = {\"Emp Id\":[\"E01\",\"E07\",\"E03\",\"E04\",\"E08\",\"E06\"],\n",
    "        \"Salary\":[45000,56000,30000,50000,34000,62000]}\n",
    "\n",
    "df1 = pd.DataFrame(data1)\n",
    "df2 = pd.DataFrame(data2)\n",
    "print(df1)\n",
    "print()\n",
    "print(df2)"
   ]
  },
  {
   "cell_type": "code",
   "execution_count": 10,
   "id": "a88d2c82-828a-4f39-b067-e4d3ea0e4cd2",
   "metadata": {},
   "outputs": [
    {
     "name": "stdout",
     "output_type": "stream",
     "text": [
      "  Emp Id    Name  age   Salary\n",
      "0    E01     Ram   34  45000.0\n",
      "1    E02   Shyam   56      NaN\n",
      "2    E03   rahul   19  30000.0\n",
      "3    E04  vishal   44  50000.0\n",
      "4    E05    Ravi   32      NaN\n",
      "5    E06     Raj   49  62000.0\n"
     ]
    }
   ],
   "source": [
    "print(pd.merge(left = df1,right =df2,on=\"Emp Id\", how = \"left\"))"
   ]
  },
  {
   "cell_type": "code",
   "execution_count": 11,
   "id": "d9dec47e-91a7-4420-b467-06d26f60760a",
   "metadata": {},
   "outputs": [
    {
     "name": "stdout",
     "output_type": "stream",
     "text": [
      "  Emp Id    Name   age  Salary\n",
      "0    E01     Ram  34.0   45000\n",
      "1    E07     NaN   NaN   56000\n",
      "2    E03   rahul  19.0   30000\n",
      "3    E04  vishal  44.0   50000\n",
      "4    E08     NaN   NaN   34000\n",
      "5    E06     Raj  49.0   62000\n"
     ]
    }
   ],
   "source": [
    "print(pd.merge(left = df1,right =df2,on=\"Emp Id\", how = \"right\"))"
   ]
  },
  {
   "cell_type": "code",
   "execution_count": 15,
   "id": "46bd385c-4607-4cc9-a092-fd0a07ebbe32",
   "metadata": {},
   "outputs": [],
   "source": [
    "import pandas as pd\n",
    "\n",
    "data1={\"Emp Id\":[\"E01\",\"E02\",\"E03\",\"E04\",\"E05\",\"E06\"],\n",
    "      \"Name\":[\"Ram\",\"Shyam\",\"rahul\",\"vishal\",\"Ravi\",\"Raj\"],\n",
    "      \"age\":[34,56,19,44,32,49]}\n",
    "data2={\"Emp Id\":[\"E07\",\"E08\",\"E09\",\"E10\",\"E11\",\"E12\"],\n",
    "      \"Name\":[\"bittu\",\"chintu\",\"bunty\",\"pappu\",\"Raju\",\"Aman\"],\n",
    "      \"age\":[34,56,19,44,32,49]}\n",
    "df1 = pd.DataFrame(data1)\n",
    "df2 = pd.DataFrame(data2)"
   ]
  },
  {
   "cell_type": "code",
   "execution_count": 16,
   "id": "84e4a3d2-1ba3-47c6-8821-05a053f11200",
   "metadata": {},
   "outputs": [
    {
     "name": "stdout",
     "output_type": "stream",
     "text": [
      "  Emp Id    Name  age\n",
      "0    E01     Ram   34\n",
      "1    E02   Shyam   56\n",
      "2    E03   rahul   19\n",
      "3    E04  vishal   44\n",
      "4    E05    Ravi   32\n",
      "5    E06     Raj   49\n",
      "0    E07   bittu   34\n",
      "1    E08  chintu   56\n",
      "2    E09   bunty   19\n",
      "3    E10   pappu   44\n",
      "4    E11    Raju   32\n",
      "5    E12    Aman   49\n"
     ]
    }
   ],
   "source": [
    "print(pd.concat([df1,df2]))"
   ]
  },
  {
   "cell_type": "code",
   "execution_count": null,
   "id": "8349003d-9852-4ea7-8ba5-54a1e7618f80",
   "metadata": {},
   "outputs": [],
   "source": []
  }
 ],
 "metadata": {
  "kernelspec": {
   "display_name": "Python 3 (ipykernel)",
   "language": "python",
   "name": "python3"
  },
  "language_info": {
   "codemirror_mode": {
    "name": "ipython",
    "version": 3
   },
   "file_extension": ".py",
   "mimetype": "text/x-python",
   "name": "python",
   "nbconvert_exporter": "python",
   "pygments_lexer": "ipython3",
   "version": "3.13.1"
  }
 },
 "nbformat": 4,
 "nbformat_minor": 5
}
