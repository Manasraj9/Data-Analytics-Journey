{
 "cells": [
  {
   "cell_type": "code",
   "execution_count": 3,
   "id": "88a80d28-4cef-475c-92e4-9ab6d57d0383",
   "metadata": {},
   "outputs": [
    {
     "name": "stdout",
     "output_type": "stream",
     "text": [
      "        Fruit  Price  Quantity\n",
      "0       Apple    120        10\n",
      "1      Banana     50        25\n",
      "2      Orange     80        15\n",
      "3       Mango    100        20\n",
      "4   Pineapple     90         8\n",
      "5      Grapes     70        12\n",
      "6  Watermelon     30        18\n",
      "7  Strawberry    150         6\n",
      "8      Papaya     60        14\n",
      "9        Kiwi    200         5\n"
     ]
    }
   ],
   "source": [
    "import pandas as pd\n",
    "\n",
    "data = {\n",
    "    \"Fruit\": [\"Apple\", \"Banana\", \"Orange\", \"Mango\", \"Pineapple\", \n",
    "              \"Grapes\", \"Watermelon\", \"Strawberry\", \"Papaya\", \"Kiwi\"],\n",
    "    \"Price\": [120, 50, 80, 100, 90, 70, 30, 150, 60, 200],\n",
    "    \"Quantity\": [10, 25, 15, 20, 8, 12, 18, 6, 14, 5]\n",
    "}\n",
    "\n",
    "df1 = pd.DataFrame(data)\n",
    "print(df1)\n"
   ]
  },
  {
   "cell_type": "code",
   "execution_count": 4,
   "id": "0679cc22-4c36-4cc8-af39-2a7b4decc5e9",
   "metadata": {},
   "outputs": [
    {
     "name": "stdout",
     "output_type": "stream",
     "text": [
      "        Fruit  Price  Quantity\n",
      "0       Apple    120        10\n",
      "1      Banana     50        25\n",
      "2      Orange     80        15\n",
      "3       Mango    100        20\n",
      "4   Pineapple     90         8\n",
      "5      Grapes     70        12\n",
      "6  Watermelon     30        18\n",
      "7  Strawberry    150         6\n",
      "8      Papaya     60        14\n",
      "9        Kiwi    200         5\n"
     ]
    }
   ],
   "source": [
    "df2 = df1.copy()\n",
    "print(df2)"
   ]
  },
  {
   "cell_type": "code",
   "execution_count": 9,
   "id": "83c5ba64-37f5-4f97-8a52-475d0fa65679",
   "metadata": {},
   "outputs": [
    {
     "name": "stdout",
     "output_type": "stream",
     "text": [
      "        Fruit  Price  Quantity\n",
      "0       Apple    100        12\n",
      "1      Banana    120        10\n",
      "2      Orange     80        15\n",
      "3       Mango    120        80\n",
      "4   Pineapple     90         8\n",
      "5      Grapes     70        12\n",
      "6  Watermelon     30        18\n",
      "7  Strawberry    150         6\n",
      "8      Papaya     60        14\n",
      "9        Kiwi    200         5\n"
     ]
    }
   ],
   "source": [
    "df2.loc[0,\"Price\"]=100\n",
    "df2.loc[1,\"Price\"]=120\n",
    "df2.loc[3,\"Price\"]=120\n",
    "df2.loc[0,\"Quantity\"]=12\n",
    "df2.loc[1,\"Quantity\"]=10\n",
    "df2.loc[3,\"Quantity\"]=80\n",
    "print(df2)"
   ]
  },
  {
   "cell_type": "code",
   "execution_count": 11,
   "id": "d6a349b7-fde8-4428-a06d-078c582ea7c3",
   "metadata": {},
   "outputs": [
    {
     "name": "stdout",
     "output_type": "stream",
     "text": [
      "         Price  Quantity\n",
      "0 self   120.0      10.0\n",
      "  other  100.0      12.0\n",
      "1 self    50.0      25.0\n",
      "  other  120.0      10.0\n",
      "3 self   100.0      20.0\n",
      "  other  120.0      80.0\n"
     ]
    }
   ],
   "source": [
    "print(df1.compare(df2,align_axis=0))"
   ]
  },
  {
   "cell_type": "code",
   "execution_count": 13,
   "id": "e1e9f156-cbfa-4281-a2c1-9291b852a2cd",
   "metadata": {},
   "outputs": [
    {
     "name": "stdout",
     "output_type": "stream",
     "text": [
      "  Price       Quantity      \n",
      "   self other     self other\n",
      "0   120   100       10    12\n",
      "1    50   120       25    10\n",
      "3   100   120       20    80\n",
      "   Price        Quantity      \n",
      "    self  other     self other\n",
      "0  120.0  100.0     10.0  12.0\n",
      "1   50.0  120.0     25.0  10.0\n",
      "3  100.0  120.0     20.0  80.0\n"
     ]
    }
   ],
   "source": [
    "print(df1.compare(df2,keep_equal=True))\n",
    "print(df1.compare(df2))"
   ]
  },
  {
   "cell_type": "code",
   "execution_count": 15,
   "id": "38188c2a-c5df-4b92-a587-e9af30c822a3",
   "metadata": {},
   "outputs": [
    {
     "name": "stdout",
     "output_type": "stream",
     "text": [
      "  Fruit        Price        Quantity      \n",
      "   self other   self  other     self other\n",
      "0   NaN   NaN  120.0  100.0     10.0  12.0\n",
      "1   NaN   NaN   50.0  120.0     25.0  10.0\n",
      "2   NaN   NaN    NaN    NaN      NaN   NaN\n",
      "3   NaN   NaN  100.0  120.0     20.0  80.0\n",
      "4   NaN   NaN    NaN    NaN      NaN   NaN\n",
      "5   NaN   NaN    NaN    NaN      NaN   NaN\n",
      "6   NaN   NaN    NaN    NaN      NaN   NaN\n",
      "7   NaN   NaN    NaN    NaN      NaN   NaN\n",
      "8   NaN   NaN    NaN    NaN      NaN   NaN\n",
      "9   NaN   NaN    NaN    NaN      NaN   NaN\n"
     ]
    }
   ],
   "source": [
    "print(df1.compare(df2,keep_shape=True))"
   ]
  },
  {
   "cell_type": "code",
   "execution_count": null,
   "id": "a9119ab0-4bbc-4341-8510-da461b331f38",
   "metadata": {},
   "outputs": [],
   "source": []
  }
 ],
 "metadata": {
  "kernelspec": {
   "display_name": "Python 3 (ipykernel)",
   "language": "python",
   "name": "python3"
  },
  "language_info": {
   "codemirror_mode": {
    "name": "ipython",
    "version": 3
   },
   "file_extension": ".py",
   "mimetype": "text/x-python",
   "name": "python",
   "nbconvert_exporter": "python",
   "pygments_lexer": "ipython3",
   "version": "3.13.1"
  }
 },
 "nbformat": 4,
 "nbformat_minor": 5
}
