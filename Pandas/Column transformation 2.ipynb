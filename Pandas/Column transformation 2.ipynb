{
 "cells": [
  {
   "cell_type": "code",
   "execution_count": 5,
   "id": "50840c1f-5257-4376-9314-9d048f286125",
   "metadata": {},
   "outputs": [
    {
     "name": "stdout",
     "output_type": "stream",
     "text": [
      "     EEID First Name Last Name  Age Gender  salary\n",
      "0  EMP001      Aarav    Sharma   28      M   25000\n",
      "1  EMP002      Sneha     Patel   25      F   45000\n",
      "2  EMP003      Karan     Verma   32      M   30000\n",
      "3  EMP004       Diya     Singh   24      F   25000\n",
      "4  EMP005      Rohit     Mehta   29      M   30000\n",
      "5  EMP006      Meera      Iyer   27      F   30000\n",
      "6  EMP007     Ishaan     Reddy   30      M   30000\n",
      "7  EMP008     Ananya    Kapoor   23      F   25000\n",
      "8  EMP009     Vikram     Joshi   35      M   30000\n",
      "9  EMP010      Tanya     Gupta   26      F   25000\n",
      "     EEID First Name Last Name  Age Gender  salary   Bonus\n",
      "0  EMP001      Aarav    Sharma   28      M   25000  5000.0\n",
      "1  EMP002      Sneha     Patel   25      F   45000  9000.0\n",
      "2  EMP003      Karan     Verma   32      M   30000  6000.0\n",
      "3  EMP004       Diya     Singh   24      F   25000  5000.0\n",
      "4  EMP005      Rohit     Mehta   29      M   30000  6000.0\n",
      "5  EMP006      Meera      Iyer   27      F   30000  6000.0\n",
      "6  EMP007     Ishaan     Reddy   30      M   30000  6000.0\n",
      "7  EMP008     Ananya    Kapoor   23      F   25000  5000.0\n",
      "8  EMP009     Vikram     Joshi   35      M   30000  6000.0\n",
      "9  EMP010      Tanya     Gupta   26      F   25000  5000.0\n"
     ]
    }
   ],
   "source": [
    "import pandas as pd\n",
    "\n",
    "data = pd.read_csv(\"employees.csv\")\n",
    "print(data)\n",
    "\n",
    "data[\"Bonus\"] = (data[\"salary\"]/100)*20\n",
    "print(data)"
   ]
  },
  {
   "cell_type": "code",
   "execution_count": 10,
   "id": "b1b63a9f-1613-4e3c-ac40-a02ce1eeb8e2",
   "metadata": {},
   "outputs": [
    {
     "name": "stdout",
     "output_type": "stream",
     "text": [
      "     Months\n",
      "0   January\n",
      "1  february\n",
      "2     March\n",
      "3     April\n",
      "     Months Short_Months\n",
      "0   January          Jan\n",
      "1  february          feb\n",
      "2     March          Mar\n",
      "3     April          Apr\n"
     ]
    }
   ],
   "source": [
    "data = {\"Months\":[\"January\",\"february\",\"March\",\"April\"]}\n",
    "\n",
    "a = pd.DataFrame(data)\n",
    "print(a)\n",
    "\n",
    "def extract(value):\n",
    "    return value[0:3]\n",
    "\n",
    "a[\"Short_Months\"] = a[\"Months\"].map(extract)\n",
    "print(a)"
   ]
  },
  {
   "cell_type": "code",
   "execution_count": null,
   "id": "a2cd2798-d517-480b-807c-d6520a94a005",
   "metadata": {},
   "outputs": [],
   "source": []
  }
 ],
 "metadata": {
  "kernelspec": {
   "display_name": "Python 3 (ipykernel)",
   "language": "python",
   "name": "python3"
  },
  "language_info": {
   "codemirror_mode": {
    "name": "ipython",
    "version": 3
   },
   "file_extension": ".py",
   "mimetype": "text/x-python",
   "name": "python",
   "nbconvert_exporter": "python",
   "pygments_lexer": "ipython3",
   "version": "3.13.1"
  }
 },
 "nbformat": 4,
 "nbformat_minor": 5
}
