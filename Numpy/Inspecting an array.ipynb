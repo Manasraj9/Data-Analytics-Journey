{
 "cells": [
  {
   "cell_type": "code",
   "execution_count": 14,
   "id": "1e652e34-d926-4bab-b0bd-23c25d8eb270",
   "metadata": {},
   "outputs": [
    {
     "name": "stdout",
     "output_type": "stream",
     "text": [
      "[30 40 20 40 30]\n",
      "(5,)\n",
      "5\n",
      "5\n",
      "<class 'numpy.ndarray'>\n",
      "int64\n",
      "[30 40 20 40 30]\n"
     ]
    }
   ],
   "source": [
    "import numpy as np\n",
    "\n",
    "a = [30,40,20,40,30]\n",
    "arr = np.array(a)\n",
    "print(arr)\n",
    "print(arr.shape)  #rows, columns\n",
    "print(len(arr))   #number of nested values\n",
    "print(np.size(arr)) #number of elements\n",
    "print(type(arr))#datatype of variable\n",
    "print(arr.dtype)#datatype of array\n",
    "print(arr.astype(int))#conversion of datatype"
   ]
  },
  {
   "cell_type": "code",
   "execution_count": null,
   "id": "1154cddd-ced8-4eb9-b6e3-09ad2d1ceb46",
   "metadata": {},
   "outputs": [],
   "source": []
  }
 ],
 "metadata": {
  "kernelspec": {
   "display_name": "Python 3 (ipykernel)",
   "language": "python",
   "name": "python3"
  },
  "language_info": {
   "codemirror_mode": {
    "name": "ipython",
    "version": 3
   },
   "file_extension": ".py",
   "mimetype": "text/x-python",
   "name": "python",
   "nbconvert_exporter": "python",
   "pygments_lexer": "ipython3",
   "version": "3.13.1"
  }
 },
 "nbformat": 4,
 "nbformat_minor": 5
}
