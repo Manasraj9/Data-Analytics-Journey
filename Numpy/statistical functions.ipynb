{
 "cells": [
  {
   "cell_type": "code",
   "execution_count": 9,
   "id": "5ae66616-dcca-4f97-9396-b8fdf4a65625",
   "metadata": {},
   "outputs": [
    {
     "name": "stdout",
     "output_type": "stream",
     "text": [
      "202.25\n",
      "194.0\n",
      "200\n",
      "55.68157235567257\n",
      "3100.4375\n"
     ]
    }
   ],
   "source": [
    "import numpy as np\n",
    "import statistics as stats\n",
    "baked_food = [200,300,130,150,200,280,170,188]\n",
    "\n",
    "a = np.array(baked_food)\n",
    "print(np.mean(a))  #mean\n",
    "print(np.median(a))  #median\n",
    "print(stats.mode(a))  #mode\n",
    "print(np.std(a))  #standard deviation\n",
    "print(np.var(a)) #variance"
   ]
  },
  {
   "cell_type": "code",
   "execution_count": 11,
   "id": "9992c86b-3635-45bb-b724-73014582daf7",
   "metadata": {},
   "outputs": [
    {
     "name": "stdout",
     "output_type": "stream",
     "text": [
      "Correlation matrix:\n",
      " [[1.         0.94347826]\n",
      " [0.94347826 1.        ]]\n"
     ]
    }
   ],
   "source": [
    "# -1 represents inversely proportional relationship\n",
    "# 1 represents proportional relationship\n",
    "# 0 means no relationship\n",
    "tobacco_consumption=[20,50,10,30,50,40]\n",
    "deaths=[100,120,70,100,120,112]\n",
    "\n",
    "\n",
    "correlation_matrix = np.corrcoef(tobacco_consumption, deaths)\n",
    "\n",
    "print(\"Correlation matrix:\\n\", correlation_matrix)"
   ]
  },
  {
   "cell_type": "code",
   "execution_count": null,
   "id": "c9b2cc96-5330-44e8-9512-ac63b66e8857",
   "metadata": {},
   "outputs": [],
   "source": []
  }
 ],
 "metadata": {
  "kernelspec": {
   "display_name": "Python 3 (ipykernel)",
   "language": "python",
   "name": "python3"
  },
  "language_info": {
   "codemirror_mode": {
    "name": "ipython",
    "version": 3
   },
   "file_extension": ".py",
   "mimetype": "text/x-python",
   "name": "python",
   "nbconvert_exporter": "python",
   "pygments_lexer": "ipython3",
   "version": "3.13.1"
  }
 },
 "nbformat": 4,
 "nbformat_minor": 5
}
