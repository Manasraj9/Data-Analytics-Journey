{
 "cells": [
  {
   "cell_type": "code",
   "execution_count": 5,
   "id": "76d67b7e-8f11-4a22-8cbf-7d17c035bd40",
   "metadata": {},
   "outputs": [
    {
     "name": "stdout",
     "output_type": "stream",
     "text": [
      "[ 60  60  60  80 100]\n",
      "[ 60  60  60  80 100]\n",
      "[ 0 20 40 40 40]\n",
      "[ 900  800  500 1200 2100]\n",
      "[1.         0.5        0.2        0.33333333 0.42857143]\n"
     ]
    }
   ],
   "source": [
    "import numpy as np\n",
    "\n",
    "arr1 = np.array([30,40,50,60,70])\n",
    "arr2 = np.array([30,20,10,20,30])\n",
    "print(arr1+arr2)\n",
    "print(np.add(arr1,arr2))\n",
    "print(arr1-arr2)\n",
    "print(arr1*arr2)\n",
    "print(arr2/arr1)"
   ]
  },
  {
   "cell_type": "code",
   "execution_count": 7,
   "id": "2ebdb759-4c38-42c9-a971-cce66cb19ca6",
   "metadata": {},
   "outputs": [
    {
     "name": "stdout",
     "output_type": "stream",
     "text": [
      "[ 9 16 25 36 49]\n"
     ]
    }
   ],
   "source": [
    "arr1 = np.array([3,4,5,6,7])\n",
    "arr2 = np.array([2])\n",
    "print(np.power(arr1,arr2))"
   ]
  },
  {
   "cell_type": "code",
   "execution_count": 8,
   "id": "1b72ad9f-81dd-4752-97d2-d5a27005507d",
   "metadata": {},
   "outputs": [
    {
     "name": "stdout",
     "output_type": "stream",
     "text": [
      "[3. 4. 5. 6. 7.]\n"
     ]
    }
   ],
   "source": [
    "arr1 = np.array([ 9, 16, 25, 36, 49])\n",
    "print(np.sqrt(arr1))\n",
    "print("
   ]
  },
  {
   "cell_type": "code",
   "execution_count": null,
   "id": "693ec2a1-4909-46c8-a792-b1e2e2b33020",
   "metadata": {},
   "outputs": [],
   "source": []
  }
 ],
 "metadata": {
  "kernelspec": {
   "display_name": "Python 3 (ipykernel)",
   "language": "python",
   "name": "python3"
  },
  "language_info": {
   "codemirror_mode": {
    "name": "ipython",
    "version": 3
   },
   "file_extension": ".py",
   "mimetype": "text/x-python",
   "name": "python",
   "nbconvert_exporter": "python",
   "pygments_lexer": "ipython3",
   "version": "3.13.1"
  }
 },
 "nbformat": 4,
 "nbformat_minor": 5
}
