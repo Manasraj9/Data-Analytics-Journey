{
 "cells": [
  {
   "cell_type": "code",
   "execution_count": 1,
   "id": "fb7b092a-6100-456a-895f-c75970835318",
   "metadata": {},
   "outputs": [
    {
     "name": "stdout",
     "output_type": "stream",
     "text": [
      "[30, 40, 50, 5, 4, 3]\n"
     ]
    }
   ],
   "source": [
    "a = [30,40,50]\n",
    "b = [5,4,3]\n",
    "print(a+b)"
   ]
  },
  {
   "cell_type": "code",
   "execution_count": 8,
   "id": "ce73bc0c-a799-43df-924d-59d1b3c011ce",
   "metadata": {},
   "outputs": [
    {
     "name": "stdout",
     "output_type": "stream",
     "text": [
      "[[30 40]\n",
      " [50 60]\n",
      " [ 5  4]\n",
      " [ 3  2]]\n"
     ]
    }
   ],
   "source": [
    "#Concatenate\n",
    "import numpy as np\n",
    "arr1 = np.array([[30,40],[50,60]])\n",
    "arr2 = np.array([[5,4],[3,2]])\n",
    "print(np.concatenate([arr1,arr2]))\n"
   ]
  },
  {
   "cell_type": "code",
   "execution_count": 10,
   "id": "9ec3fe1f-60c9-4a5c-b4bf-fc189cf72c09",
   "metadata": {},
   "outputs": [
    {
     "name": "stdout",
     "output_type": "stream",
     "text": [
      "[[30 40]\n",
      " [50 60]\n",
      " [ 5  4]\n",
      " [ 3  2]]\n"
     ]
    }
   ],
   "source": [
    "print(np.concatenate([arr1,arr2],axis = 0))"
   ]
  },
  {
   "cell_type": "code",
   "execution_count": 12,
   "id": "5edd6019-52b8-42d8-ba72-f9c79acb5ed5",
   "metadata": {},
   "outputs": [
    {
     "name": "stdout",
     "output_type": "stream",
     "text": [
      "[[30 40  5  4]\n",
      " [50 60  3  2]]\n"
     ]
    }
   ],
   "source": [
    "print(np.hstack([arr1,arr2]))  #horizontal concatenation"
   ]
  },
  {
   "cell_type": "code",
   "execution_count": 13,
   "id": "cd8676af-357c-42e9-b23f-15e7da548ed2",
   "metadata": {},
   "outputs": [
    {
     "name": "stdout",
     "output_type": "stream",
     "text": [
      "[[30 40]\n",
      " [50 60]\n",
      " [ 5  4]\n",
      " [ 3  2]]\n"
     ]
    }
   ],
   "source": [
    "print(np.vstack([arr1,arr2]))  #vertical concatenation"
   ]
  },
  {
   "cell_type": "code",
   "execution_count": 23,
   "id": "b3fe9149-c73c-494b-acb7-5a9d336d29df",
   "metadata": {},
   "outputs": [
    {
     "name": "stdout",
     "output_type": "stream",
     "text": [
      "[array([[20, 40, 30]]), array([[40, 10, 20]])]\n"
     ]
    }
   ],
   "source": [
    "a = np.array([[20,40,30],[40,10,20]])\n",
    "b = np.array_split(a,2)\n",
    "print(b)"
   ]
  },
  {
   "cell_type": "code",
   "execution_count": null,
   "id": "c8a2c1ba-7d1d-4e45-8b70-238b20a55a9b",
   "metadata": {},
   "outputs": [],
   "source": []
  }
 ],
 "metadata": {
  "kernelspec": {
   "display_name": "Python 3 (ipykernel)",
   "language": "python",
   "name": "python3"
  },
  "language_info": {
   "codemirror_mode": {
    "name": "ipython",
    "version": 3
   },
   "file_extension": ".py",
   "mimetype": "text/x-python",
   "name": "python",
   "nbconvert_exporter": "python",
   "pygments_lexer": "ipython3",
   "version": "3.13.1"
  }
 },
 "nbformat": 4,
 "nbformat_minor": 5
}
